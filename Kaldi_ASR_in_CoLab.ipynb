{
  "nbformat": 4,
  "nbformat_minor": 0,
  "metadata": {
    "colab": {
      "name": "Kaldi-ASR-in-CoLab.ipynb",
      "provenance": [],
      "private_outputs": true,
      "collapsed_sections": [
        "h9jqcf_V-HFo",
        "Ks10Dvd8-Oqj",
        "xWzUz0x4FI56",
        "y7GFotzMIAav",
        "vMuIJypJIobW",
        "WgUGyD_wAIhy"
      ],
      "toc_visible": true,
      "include_colab_link": true
    },
    "kernelspec": {
      "name": "python2",
      "display_name": "Python 2"
    },
    "accelerator": "GPU"
  },
  "cells": [
    {
      "cell_type": "markdown",
      "metadata": {
        "id": "view-in-github",
        "colab_type": "text"
      },
      "source": [
        "<a href=\"https://colab.research.google.com/github/yfliao/Kaldi-ASR-in-CoLab/blob/master/Kaldi_ASR_in_CoLab.ipynb\" target=\"_parent\"><img src=\"https://colab.research.google.com/assets/colab-badge.svg\" alt=\"Open In Colab\"/></a>"
      ]
    },
    {
      "cell_type": "markdown",
      "metadata": {
        "id": "7223M6OPEOBf",
        "colab_type": "text"
      },
      "source": [
        "# Virtual Machine"
      ]
    },
    {
      "cell_type": "markdown",
      "metadata": {
        "id": "h9jqcf_V-HFo",
        "colab_type": "text"
      },
      "source": [
        "## Hardware and Software"
      ]
    },
    {
      "cell_type": "code",
      "metadata": {
        "id": "e2gunz3AbAv3",
        "colab_type": "code",
        "colab": {}
      },
      "source": [
        "!lsb_release -a"
      ],
      "execution_count": 0,
      "outputs": []
    },
    {
      "cell_type": "code",
      "metadata": {
        "id": "NQO0z2kEflhJ",
        "colab_type": "code",
        "colab": {}
      },
      "source": [
        "import sys ; print(sys.version_info)"
      ],
      "execution_count": 0,
      "outputs": []
    },
    {
      "cell_type": "code",
      "metadata": {
        "id": "6jVgUC3Al56u",
        "colab_type": "code",
        "colab": {}
      },
      "source": [
        "!lscpu"
      ],
      "execution_count": 0,
      "outputs": []
    },
    {
      "cell_type": "code",
      "metadata": {
        "id": "fGIcIl4lmMlr",
        "colab_type": "code",
        "colab": {}
      },
      "source": [
        "!cat /proc/cpuinfo | grep 'core id'"
      ],
      "execution_count": 0,
      "outputs": []
    },
    {
      "cell_type": "code",
      "metadata": {
        "id": "XBTMUQnHb8P4",
        "colab_type": "code",
        "colab": {}
      },
      "source": [
        "!nvidia-smi"
      ],
      "execution_count": 0,
      "outputs": []
    },
    {
      "cell_type": "code",
      "metadata": {
        "id": "vP5oe1E2YTnY",
        "colab_type": "code",
        "colab": {}
      },
      "source": [
        "!df"
      ],
      "execution_count": 0,
      "outputs": []
    },
    {
      "cell_type": "markdown",
      "metadata": {
        "id": "Ks10Dvd8-Oqj",
        "colab_type": "text"
      },
      "source": [
        "## Requirement"
      ]
    },
    {
      "cell_type": "code",
      "metadata": {
        "id": "B73pCtxwujtR",
        "colab_type": "code",
        "colab": {}
      },
      "source": [
        "!sudo apt install -qq g++ automake autoconf libtool subversion gawk"
      ],
      "execution_count": 0,
      "outputs": []
    },
    {
      "cell_type": "code",
      "metadata": {
        "id": "rXSMD9wICeXg",
        "colab_type": "code",
        "colab": {}
      },
      "source": [
        "!sudo apt install libatlas-base-dev\n",
        "\n",
        "!sudo apt install libblas-dev\n",
        "\n",
        "!sudo apt install liblapack3\n",
        "!sudo apt install liblapack-dev\n",
        "\n",
        "!sudo apt install libopenblas-base \n",
        "!sudo apt install libopenblas-dev \n",
        "\n",
        "!sudo apt install liblapacke-dev \n",
        "\n",
        "!sudo apt install liblapack-dev"
      ],
      "execution_count": 0,
      "outputs": []
    },
    {
      "cell_type": "markdown",
      "metadata": {
        "id": "xWzUz0x4FI56",
        "colab_type": "text"
      },
      "source": [
        "#Google Drive"
      ]
    },
    {
      "cell_type": "code",
      "metadata": {
        "id": "-5B_UYrVkcws",
        "colab_type": "code",
        "colab": {}
      },
      "source": [
        "from google.colab import drive\n",
        "drive.mount('/content/drive/')\n",
        "!df"
      ],
      "execution_count": 0,
      "outputs": []
    },
    {
      "cell_type": "code",
      "metadata": {
        "id": "JyBkbyZMHxaA",
        "colab_type": "code",
        "colab": {}
      },
      "source": [
        "!ln -s \"/content/drive/My Drive\" \"/content/mydrive\"\n",
        "#!ls \"/content/mydrive\""
      ],
      "execution_count": 0,
      "outputs": []
    },
    {
      "cell_type": "code",
      "metadata": {
        "id": "Wd_zQOnnQQKi",
        "colab_type": "code",
        "colab": {}
      },
      "source": [
        "!ln -s \"/content/drive/My Drive/Colab Notebooks/\" '/content/mycolab'\n",
        "!ls \"/content/mycolab\""
      ],
      "execution_count": 0,
      "outputs": []
    },
    {
      "cell_type": "markdown",
      "metadata": {
        "id": "y7GFotzMIAav",
        "colab_type": "text"
      },
      "source": [
        "# Kaldi Toolkit"
      ]
    },
    {
      "cell_type": "code",
      "metadata": {
        "id": "DLiizxhJxJys",
        "colab_type": "code",
        "colab": {}
      },
      "source": [
        "#!git clone https://github.com/kaldi-asr/kaldi.git"
      ],
      "execution_count": 0,
      "outputs": []
    },
    {
      "cell_type": "code",
      "metadata": {
        "id": "jgLGPztvwu5k",
        "colab_type": "code",
        "colab": {}
      },
      "source": [
        "!tar vxf /content/mycolab/kaldi-ext.tar.gz"
      ],
      "execution_count": 0,
      "outputs": []
    },
    {
      "cell_type": "markdown",
      "metadata": {
        "id": "IlQNz1Ah_l5k",
        "colab_type": "text"
      },
      "source": [
        "## Tools"
      ]
    },
    {
      "cell_type": "code",
      "metadata": {
        "id": "46b62_fSurBK",
        "colab_type": "code",
        "colab": {}
      },
      "source": [
        "import os\n",
        "os.chdir('/content/kaldi/tools')"
      ],
      "execution_count": 0,
      "outputs": []
    },
    {
      "cell_type": "code",
      "metadata": {
        "id": "XJQX2QM5z3U1",
        "colab_type": "code",
        "colab": {}
      },
      "source": [
        "!./extras/check_dependencies.sh"
      ],
      "execution_count": 0,
      "outputs": []
    },
    {
      "cell_type": "code",
      "metadata": {
        "id": "ISYGfQX40_h9",
        "colab_type": "code",
        "colab": {}
      },
      "source": [
        "!sudo apt-get install sox"
      ],
      "execution_count": 0,
      "outputs": []
    },
    {
      "cell_type": "code",
      "metadata": {
        "id": "VLtNVfRB1JZ5",
        "colab_type": "code",
        "colab": {}
      },
      "source": [
        "!./extras/install_mkl.sh"
      ],
      "execution_count": 0,
      "outputs": []
    },
    {
      "cell_type": "code",
      "metadata": {
        "id": "ZMlnr-J21X3j",
        "colab_type": "code",
        "colab": {}
      },
      "source": [
        "!./extras/check_dependencies.sh"
      ],
      "execution_count": 0,
      "outputs": []
    },
    {
      "cell_type": "code",
      "metadata": {
        "id": "HE7iVh0adljv",
        "colab_type": "code",
        "colab": {}
      },
      "source": [
        "!make clean"
      ],
      "execution_count": 0,
      "outputs": []
    },
    {
      "cell_type": "code",
      "metadata": {
        "id": "tr_axM74v0me",
        "colab_type": "code",
        "colab": {}
      },
      "source": [
        "!make -j4"
      ],
      "execution_count": 0,
      "outputs": []
    },
    {
      "cell_type": "code",
      "metadata": {
        "id": "3JDR913Dkoom",
        "colab_type": "code",
        "colab": {}
      },
      "source": [
        "!cp '/content/drive/My Drive/Colab Notebooks/srilm.tgz' '/content/kaldi/tools'"
      ],
      "execution_count": 0,
      "outputs": []
    },
    {
      "cell_type": "code",
      "metadata": {
        "id": "1fpMM46p2c7C",
        "colab_type": "code",
        "colab": {}
      },
      "source": [
        "!cp /content/mycolab/srilm.tgz '/content/kaldi/tools'\n",
        "!./install_srilm.sh"
      ],
      "execution_count": 0,
      "outputs": []
    },
    {
      "cell_type": "code",
      "metadata": {
        "id": "r3MTEZVtQzt1",
        "colab_type": "code",
        "colab": {}
      },
      "source": [
        "!./extras/install_kaldi_lm.sh"
      ],
      "execution_count": 0,
      "outputs": []
    },
    {
      "cell_type": "code",
      "metadata": {
        "id": "9GJOucnkafgS",
        "colab_type": "code",
        "colab": {}
      },
      "source": [
        "!./install_portaudio.sh"
      ],
      "execution_count": 0,
      "outputs": []
    },
    {
      "cell_type": "markdown",
      "metadata": {
        "id": "vjL5Ccwc_tO4",
        "colab_type": "text"
      },
      "source": [
        "## Source"
      ]
    },
    {
      "cell_type": "code",
      "metadata": {
        "id": "uiX6au6axOp5",
        "colab_type": "code",
        "colab": {}
      },
      "source": [
        "import os\n",
        "os.chdir('/content/kaldi/src')\n",
        "!ls"
      ],
      "execution_count": 0,
      "outputs": []
    },
    {
      "cell_type": "code",
      "metadata": {
        "id": "KP8QM6zWxTdQ",
        "colab_type": "code",
        "colab": {}
      },
      "source": [
        "#!./configure --static --mathlib=ATLAS  # if without Intel MKL\n",
        "#!./configure --shared                 # if with Intel MKL\n",
        "#!./configure --static                  # if static\n",
        "!./configure --shared                  # if shared"
      ],
      "execution_count": 0,
      "outputs": []
    },
    {
      "cell_type": "code",
      "metadata": {
        "id": "MpumFkEldz7q",
        "colab_type": "code",
        "colab": {}
      },
      "source": [
        "!make clean"
      ],
      "execution_count": 0,
      "outputs": []
    },
    {
      "cell_type": "code",
      "metadata": {
        "id": "uCyY2NzDeyhk",
        "colab_type": "code",
        "colab": {}
      },
      "source": [
        "!make depend -j 8"
      ],
      "execution_count": 0,
      "outputs": []
    },
    {
      "cell_type": "code",
      "metadata": {
        "id": "WqtYR6Aze3vY",
        "colab_type": "code",
        "colab": {}
      },
      "source": [
        "!make -j 8"
      ],
      "execution_count": 0,
      "outputs": []
    },
    {
      "cell_type": "code",
      "metadata": {
        "id": "oq1t8BdwaTGf",
        "colab_type": "code",
        "colab": {}
      },
      "source": [
        "!make ext"
      ],
      "execution_count": 0,
      "outputs": []
    },
    {
      "cell_type": "markdown",
      "metadata": {
        "id": "vMuIJypJIobW",
        "colab_type": "text"
      },
      "source": [
        "# Training Recipts"
      ]
    },
    {
      "cell_type": "code",
      "metadata": {
        "id": "epRRIUqqe-98",
        "colab_type": "code",
        "colab": {}
      },
      "source": [
        "import os\n",
        "os.chdir('/content/kaldi/egs')\n",
        "!pwd\n",
        "!!ls"
      ],
      "execution_count": 0,
      "outputs": []
    },
    {
      "cell_type": "markdown",
      "metadata": {
        "id": "nmOQzlvc__z4",
        "colab_type": "text"
      },
      "source": [
        "## YesNo"
      ]
    },
    {
      "cell_type": "code",
      "metadata": {
        "id": "xqXp6-hPfEtS",
        "colab_type": "code",
        "colab": {}
      },
      "source": [
        "import os\n",
        "os.chdir('/content/kaldi/egs/yesno/s5')\n",
        "!ls"
      ],
      "execution_count": 0,
      "outputs": []
    },
    {
      "cell_type": "code",
      "metadata": {
        "id": "BaUW0O3SiDWD",
        "colab_type": "code",
        "colab": {}
      },
      "source": [
        "!./run.sh"
      ],
      "execution_count": 0,
      "outputs": []
    },
    {
      "cell_type": "markdown",
      "metadata": {
        "id": "uBTfCH_RAETF",
        "colab_type": "text"
      },
      "source": [
        "## iBan"
      ]
    },
    {
      "cell_type": "code",
      "metadata": {
        "id": "9rRV2TAGgGrT",
        "colab_type": "code",
        "colab": {}
      },
      "source": [
        "import os\n",
        "os.chdir('/content/kaldi/egs/iban/s5')\n",
        "!ls"
      ],
      "execution_count": 0,
      "outputs": []
    },
    {
      "cell_type": "code",
      "metadata": {
        "id": "B8yX1_Nxkzym",
        "colab_type": "code",
        "colab": {}
      },
      "source": [
        "# replace queue.pl by run.pl\n",
        "!echo \"export train_cmd=\\\"run.pl\\\"\" > cmd.sh\n",
        "!echo \"export decode_cmd=\\\"run.pl\\\"\" >> cmd.sh"
      ],
      "execution_count": 0,
      "outputs": []
    },
    {
      "cell_type": "code",
      "metadata": {
        "id": "c_qv3_o4gKeO",
        "colab_type": "code",
        "colab": {}
      },
      "source": [
        "!./run.sh"
      ],
      "execution_count": 0,
      "outputs": []
    },
    {
      "cell_type": "markdown",
      "metadata": {
        "id": "WgUGyD_wAIhy",
        "colab_type": "text"
      },
      "source": [
        "# Backup"
      ]
    },
    {
      "cell_type": "code",
      "metadata": {
        "id": "mPsjd8aAy9Zl",
        "colab_type": "code",
        "colab": {}
      },
      "source": [
        "import os\n",
        "os.chdir('/content/')\n",
        "!tar vcf kaldi-ext-iban.tar.gz kaldi\n",
        "!cp kaldi-ext-iban.tar.gz /content/mycolab/"
      ],
      "execution_count": 0,
      "outputs": []
    }
  ]
}