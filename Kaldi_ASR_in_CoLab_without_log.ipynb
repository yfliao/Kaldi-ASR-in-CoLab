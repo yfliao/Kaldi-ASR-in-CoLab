{
  "nbformat": 4,
  "nbformat_minor": 0,
  "metadata": {
    "colab": {
      "name": "Kaldi-ASR-in-CoLab-without-log.ipynb",
      "provenance": [],
      "include_colab_link": true
    },
    "kernelspec": {
      "name": "python2",
      "display_name": "Python 2"
    },
    "accelerator": "GPU"
  },
  "cells": [
    {
      "cell_type": "markdown",
      "metadata": {
        "id": "view-in-github",
        "colab_type": "text"
      },
      "source": [
        "<a href=\"https://colab.research.google.com/github/yfliao/Kaldi-ASR-in-CoLab/blob/master/Kaldi_ASR_in_CoLab_without_log.ipynb\" target=\"_parent\"><img src=\"https://colab.research.google.com/assets/colab-badge.svg\" alt=\"Open In Colab\"/></a>"
      ]
    },
    {
      "cell_type": "code",
      "metadata": {
        "id": "e2gunz3AbAv3",
        "colab_type": "code",
        "colab": {}
      },
      "source": [
        "!lsb_release -a"
      ],
      "execution_count": 0,
      "outputs": []
    },
    {
      "cell_type": "code",
      "metadata": {
        "id": "NQO0z2kEflhJ",
        "colab_type": "code",
        "colab": {}
      },
      "source": [
        "import sys ; print(sys.version_info)"
      ],
      "execution_count": 0,
      "outputs": []
    },
    {
      "cell_type": "code",
      "metadata": {
        "id": "6jVgUC3Al56u",
        "colab_type": "code",
        "colab": {}
      },
      "source": [
        "!lscpu"
      ],
      "execution_count": 0,
      "outputs": []
    },
    {
      "cell_type": "code",
      "metadata": {
        "id": "fGIcIl4lmMlr",
        "colab_type": "code",
        "colab": {}
      },
      "source": [
        "!cat /proc/cpuinfo | grep 'core id'"
      ],
      "execution_count": 0,
      "outputs": []
    },
    {
      "cell_type": "code",
      "metadata": {
        "id": "XBTMUQnHb8P4",
        "colab_type": "code",
        "colab": {}
      },
      "source": [
        "!nvidia-smi"
      ],
      "execution_count": 0,
      "outputs": []
    },
    {
      "cell_type": "code",
      "metadata": {
        "id": "vP5oe1E2YTnY",
        "colab_type": "code",
        "colab": {}
      },
      "source": [
        "!df"
      ],
      "execution_count": 0,
      "outputs": []
    },
    {
      "cell_type": "code",
      "metadata": {
        "id": "NKJxcrL6Ghjj",
        "colab_type": "code",
        "colab": {}
      },
      "source": [
        "!pwd\n",
        "!ls"
      ],
      "execution_count": 0,
      "outputs": []
    },
    {
      "cell_type": "code",
      "metadata": {
        "id": "-5B_UYrVkcws",
        "colab_type": "code",
        "colab": {}
      },
      "source": [
        "from google.colab import drive\n",
        "drive.mount('/content/drive/')\n",
        "!df"
      ],
      "execution_count": 0,
      "outputs": []
    },
    {
      "cell_type": "code",
      "metadata": {
        "id": "P_6FheFSkrUs",
        "colab_type": "code",
        "colab": {}
      },
      "source": [
        "!ls '/content/drive/My Drive/Colab Notebooks/'"
      ],
      "execution_count": 0,
      "outputs": []
    },
    {
      "cell_type": "code",
      "metadata": {
        "id": "JyBkbyZMHxaA",
        "colab_type": "code",
        "colab": {}
      },
      "source": [
        "!ln -s \"/content/drive/My Drive\" \"/content/mydrive\"\n",
        "#!ls \"/content/mydrive\""
      ],
      "execution_count": 0,
      "outputs": []
    },
    {
      "cell_type": "code",
      "metadata": {
        "id": "Wd_zQOnnQQKi",
        "colab_type": "code",
        "colab": {}
      },
      "source": [
        "!ln -s \"/content/drive/My Drive/Colab Notebooks/\" \"/content/mycolab\"\n",
        "!ls \"/content/mycolab\""
      ],
      "execution_count": 0,
      "outputs": []
    },
    {
      "cell_type": "code",
      "metadata": {
        "id": "rC9NIo7DQeSo",
        "colab_type": "code",
        "colab": {}
      },
      "source": [
        "!pwd\n",
        "!ls"
      ],
      "execution_count": 0,
      "outputs": []
    },
    {
      "cell_type": "code",
      "metadata": {
        "id": "3JDR913Dkoom",
        "colab_type": "code",
        "colab": {}
      },
      "source": [
        "!cp '/content/drive/My Drive/Colab Notebooks/srilm.tgz' .\n",
        "!ls"
      ],
      "execution_count": 0,
      "outputs": []
    },
    {
      "cell_type": "code",
      "metadata": {
        "id": "B73pCtxwujtR",
        "colab_type": "code",
        "colab": {}
      },
      "source": [
        "!sudo apt install -qq g++ automake autoconf libtool subversion gawk"
      ],
      "execution_count": 0,
      "outputs": []
    },
    {
      "cell_type": "code",
      "metadata": {
        "id": "WnYMYS_ay9Qe",
        "colab_type": "code",
        "colab": {}
      },
      "source": [
        "!git clone https://github.com/kaldi-asr/kaldi.git"
      ],
      "execution_count": 0,
      "outputs": []
    },
    {
      "cell_type": "code",
      "metadata": {
        "id": "46b62_fSurBK",
        "colab_type": "code",
        "colab": {}
      },
      "source": [
        "import os\n",
        "os.chdir('kaldi/tools')"
      ],
      "execution_count": 0,
      "outputs": []
    },
    {
      "cell_type": "code",
      "metadata": {
        "id": "a71V2hHMVXON",
        "colab_type": "code",
        "colab": {}
      },
      "source": [
        "!pwd\n",
        "!ls\n",
        "!ls extras"
      ],
      "execution_count": 0,
      "outputs": []
    },
    {
      "cell_type": "code",
      "metadata": {
        "id": "XJQX2QM5z3U1",
        "colab_type": "code",
        "colab": {}
      },
      "source": [
        "!./extras/check_dependencies.sh"
      ],
      "execution_count": 0,
      "outputs": []
    },
    {
      "cell_type": "code",
      "metadata": {
        "id": "ISYGfQX40_h9",
        "colab_type": "code",
        "colab": {}
      },
      "source": [
        "!sudo apt-get install sox"
      ],
      "execution_count": 0,
      "outputs": []
    },
    {
      "cell_type": "code",
      "metadata": {
        "id": "VLtNVfRB1JZ5",
        "colab_type": "code",
        "colab": {}
      },
      "source": [
        "!extras/install_mkl.sh"
      ],
      "execution_count": 0,
      "outputs": []
    },
    {
      "cell_type": "code",
      "metadata": {
        "id": "ro7byNe2YrG4",
        "colab_type": "code",
        "colab": {}
      },
      "source": [
        "!sudo apt-get install libatlas-base-dev liblapack-dev libblas-dev"
      ],
      "execution_count": 0,
      "outputs": []
    },
    {
      "cell_type": "code",
      "metadata": {
        "id": "ZMlnr-J21X3j",
        "colab_type": "code",
        "colab": {}
      },
      "source": [
        "!./extras/check_dependencies.sh"
      ],
      "execution_count": 0,
      "outputs": []
    },
    {
      "cell_type": "code",
      "metadata": {
        "id": "tr_axM74v0me",
        "colab_type": "code",
        "colab": {}
      },
      "source": [
        "!make -j4"
      ],
      "execution_count": 0,
      "outputs": []
    },
    {
      "cell_type": "code",
      "metadata": {
        "id": "1fpMM46p2c7C",
        "colab_type": "code",
        "colab": {}
      },
      "source": [
        "!cp /content/srilm.tgz .\n",
        "!./install_srilm.sh"
      ],
      "execution_count": 0,
      "outputs": []
    },
    {
      "cell_type": "code",
      "metadata": {
        "id": "r3MTEZVtQzt1",
        "colab_type": "code",
        "colab": {}
      },
      "source": [
        "!./extras/install_kaldi_lm.sh"
      ],
      "execution_count": 0,
      "outputs": []
    },
    {
      "cell_type": "code",
      "metadata": {
        "id": "uiX6au6axOp5",
        "colab_type": "code",
        "colab": {}
      },
      "source": [
        "os.chdir('/content/kaldi/src')\n",
        "!ls"
      ],
      "execution_count": 0,
      "outputs": []
    },
    {
      "cell_type": "code",
      "metadata": {
        "id": "KP8QM6zWxTdQ",
        "colab_type": "code",
        "colab": {}
      },
      "source": [
        "!pwd\n",
        "!./configure --shared --mathlib=ATLAS  # if without Intel MKL\n",
        "#!./configure --shared                          # if with Intel MKL"
      ],
      "execution_count": 0,
      "outputs": []
    },
    {
      "cell_type": "code",
      "metadata": {
        "id": "uCyY2NzDeyhk",
        "colab_type": "code",
        "colab": {}
      },
      "source": [
        "!make depend -j 8"
      ],
      "execution_count": 0,
      "outputs": []
    },
    {
      "cell_type": "code",
      "metadata": {
        "id": "WqtYR6Aze3vY",
        "colab_type": "code",
        "colab": {}
      },
      "source": [
        "!make -j 8"
      ],
      "execution_count": 0,
      "outputs": []
    },
    {
      "cell_type": "code",
      "metadata": {
        "id": "epRRIUqqe-98",
        "colab_type": "code",
        "colab": {}
      },
      "source": [
        "os.chdir('/content/kaldi/egs')\n",
        "!pwd\n",
        "!!ls"
      ],
      "execution_count": 0,
      "outputs": []
    },
    {
      "cell_type": "code",
      "metadata": {
        "id": "xqXp6-hPfEtS",
        "colab_type": "code",
        "colab": {}
      },
      "source": [
        "os.chdir('/content/kaldi/egs/yesno/s5')\n",
        "!ls"
      ],
      "execution_count": 0,
      "outputs": []
    },
    {
      "cell_type": "code",
      "metadata": {
        "id": "BaUW0O3SiDWD",
        "colab_type": "code",
        "colab": {}
      },
      "source": [
        "!./run.sh"
      ],
      "execution_count": 0,
      "outputs": []
    },
    {
      "cell_type": "code",
      "metadata": {
        "id": "9rRV2TAGgGrT",
        "colab_type": "code",
        "colab": {}
      },
      "source": [
        "os.chdir('/content/kaldi/egs/iban/s5')\n",
        "!ls"
      ],
      "execution_count": 0,
      "outputs": []
    },
    {
      "cell_type": "code",
      "metadata": {
        "id": "B8yX1_Nxkzym",
        "colab_type": "code",
        "colab": {}
      },
      "source": [
        "!echo \"export train_cmd=\\\"run.pl\\\"\" > cmd.sh\n",
        "!echo \"export decode_cmd=\\\"run.pl\\\"\" >> cmd.sh"
      ],
      "execution_count": 0,
      "outputs": []
    },
    {
      "cell_type": "code",
      "metadata": {
        "id": "c_qv3_o4gKeO",
        "colab_type": "code",
        "colab": {}
      },
      "source": [
        "!./run.sh"
      ],
      "execution_count": 0,
      "outputs": []
    }
  ]
}