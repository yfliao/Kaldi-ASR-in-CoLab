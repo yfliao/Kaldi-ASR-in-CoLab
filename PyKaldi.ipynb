{
  "nbformat": 4,
  "nbformat_minor": 0,
  "metadata": {
    "colab": {
      "name": "PyKaldi.ipynb",
      "provenance": [],
      "private_outputs": true,
      "collapsed_sections": [
        "x5U-JWlL55Cz",
        "tuHHnAhV5DD_",
        "Uv4ZbIIxNt0b"
      ],
      "include_colab_link": true
    },
    "kernelspec": {
      "name": "python3",
      "display_name": "Python 3"
    },
    "accelerator": "GPU"
  },
  "cells": [
    {
      "cell_type": "markdown",
      "metadata": {
        "id": "view-in-github",
        "colab_type": "text"
      },
      "source": [
        "<a href=\"https://colab.research.google.com/github/yfliao/Kaldi-ASR-in-CoLab/blob/master/PyKaldi.ipynb\" target=\"_parent\"><img src=\"https://colab.research.google.com/assets/colab-badge.svg\" alt=\"Open In Colab\"/></a>"
      ]
    },
    {
      "cell_type": "markdown",
      "metadata": {
        "id": "x5U-JWlL55Cz",
        "colab_type": "text"
      },
      "source": [
        "# Virtual Machine"
      ]
    },
    {
      "cell_type": "code",
      "metadata": {
        "id": "7IqHzZ3-6mzV",
        "colab_type": "code",
        "colab": {}
      },
      "source": [
        "!lsb_release -a"
      ],
      "execution_count": 0,
      "outputs": []
    },
    {
      "cell_type": "code",
      "metadata": {
        "id": "pNsJ02L_8Ert",
        "colab_type": "code",
        "colab": {}
      },
      "source": [
        "import sys ; print(sys.version_info)"
      ],
      "execution_count": 0,
      "outputs": []
    },
    {
      "cell_type": "code",
      "metadata": {
        "id": "4cAN_fJpAfsF",
        "colab_type": "code",
        "colab": {}
      },
      "source": [
        "!sudo apt-get install autoconf automake cmake curl g++ git graphviz libatlas3-base libtool make pkg-config subversion unzip wget zlib1g-dev"
      ],
      "execution_count": 0,
      "outputs": []
    },
    {
      "cell_type": "code",
      "metadata": {
        "id": "lE5vnMwnAqVM",
        "colab_type": "code",
        "colab": {}
      },
      "source": [
        "!pip install --upgrade pip\n",
        "!pip install --upgrade setuptools\n",
        "!pip install numpy pyparsing\n",
        "!pip install ninja  # not required but strongly recommended"
      ],
      "execution_count": 0,
      "outputs": []
    },
    {
      "cell_type": "code",
      "metadata": {
        "id": "w-an2HbARx2v",
        "colab_type": "code",
        "colab": {}
      },
      "source": [
        "! sudo apt-get install  sox"
      ],
      "execution_count": 0,
      "outputs": []
    },
    {
      "cell_type": "markdown",
      "metadata": {
        "id": "tuHHnAhV5DD_",
        "colab_type": "text"
      },
      "source": [
        "# Google Drive"
      ]
    },
    {
      "cell_type": "code",
      "metadata": {
        "id": "KxaeDqyy4rYa",
        "colab_type": "code",
        "colab": {}
      },
      "source": [
        "from google.colab import drive\n",
        "drive.mount('/content/drive/')\n",
        "!ln -s \"/content/drive/My Drive\" \"/content/mydrive\"\n",
        "!ln -s \"/content/drive/My Drive/Colab Notebooks/\" \"/content/mycolab\"\n",
        "!ls \"/content/mycolab\""
      ],
      "execution_count": 0,
      "outputs": []
    },
    {
      "cell_type": "markdown",
      "metadata": {
        "id": "MVhDZeT95ImW",
        "colab_type": "text"
      },
      "source": [
        "# PyKaldi"
      ]
    },
    {
      "cell_type": "code",
      "metadata": {
        "id": "GfN7VKZbAOZ_",
        "colab_type": "code",
        "colab": {}
      },
      "source": [
        "!git clone https://github.com/pykaldi/pykaldi.git"
      ],
      "execution_count": 0,
      "outputs": []
    },
    {
      "cell_type": "code",
      "metadata": {
        "id": "A1pDGN-QBbwx",
        "colab_type": "code",
        "colab": {}
      },
      "source": [
        "import os\n",
        "os.chdir('/content/pykaldi')"
      ],
      "execution_count": 0,
      "outputs": []
    },
    {
      "cell_type": "code",
      "metadata": {
        "id": "wOvCXX9oBfdG",
        "colab_type": "code",
        "colab": {}
      },
      "source": [
        "!git clone -b pykaldi https://github.com/pykaldi/clif\n",
        "!git clone -b pykaldi https://github.com/pykaldi/kaldi"
      ],
      "execution_count": 0,
      "outputs": []
    },
    {
      "cell_type": "markdown",
      "metadata": {
        "id": "c-bQwA2R7KDK",
        "colab_type": "text"
      },
      "source": [
        "## Tools"
      ]
    },
    {
      "cell_type": "code",
      "metadata": {
        "id": "7kDo2YeQBOdg",
        "colab_type": "code",
        "colab": {}
      },
      "source": [
        "import os\n",
        "os.chdir('/content/pykaldi/tools')"
      ],
      "execution_count": 0,
      "outputs": []
    },
    {
      "cell_type": "code",
      "metadata": {
        "id": "D45XJenSBHEU",
        "colab_type": "code",
        "colab": {}
      },
      "source": [
        "!./check_dependencies.sh  # checks if system dependencies are installed"
      ],
      "execution_count": 0,
      "outputs": []
    },
    {
      "cell_type": "code",
      "metadata": {
        "id": "I5C161UO4TMr",
        "colab_type": "code",
        "colab": {}
      },
      "source": [
        "!./install_protobuf.sh    # installs both the C++ library and the Python package"
      ],
      "execution_count": 0,
      "outputs": []
    },
    {
      "cell_type": "code",
      "metadata": {
        "id": "d4UUZn0E4VS8",
        "colab_type": "code",
        "colab": {}
      },
      "source": [
        "!./install_clif.sh        # installs both the C++ library and the Python package"
      ],
      "execution_count": 0,
      "outputs": []
    },
    {
      "cell_type": "code",
      "metadata": {
        "id": "unNHXTKD4XXI",
        "colab_type": "code",
        "colab": {}
      },
      "source": [
        "!./install_kaldi.sh       # installs the C++ library"
      ],
      "execution_count": 0,
      "outputs": []
    },
    {
      "cell_type": "markdown",
      "metadata": {
        "id": "aGJhj58d7dw_",
        "colab_type": "text"
      },
      "source": [
        "## Installation"
      ]
    },
    {
      "cell_type": "code",
      "metadata": {
        "id": "B-d4UtmhB4xi",
        "colab_type": "code",
        "colab": {}
      },
      "source": [
        "!python setup.py install"
      ],
      "execution_count": 0,
      "outputs": []
    },
    {
      "cell_type": "code",
      "metadata": {
        "id": "F0pRQXDKCCBD",
        "colab_type": "code",
        "colab": {}
      },
      "source": [
        "!python setup.py test"
      ],
      "execution_count": 0,
      "outputs": []
    },
    {
      "cell_type": "markdown",
      "metadata": {
        "id": "Uv4ZbIIxNt0b",
        "colab_type": "text"
      },
      "source": [
        "# Backup"
      ]
    },
    {
      "cell_type": "code",
      "metadata": {
        "id": "ZVlHl1ZdNtBx",
        "colab_type": "code",
        "colab": {}
      },
      "source": [
        "import os\n",
        "os.chdir('/content/')\n",
        "!tar vcf pykaldi.tar.gz pykaldi\n",
        "!cp pykaldi.tar.gz /content/mycolab/"
      ],
      "execution_count": 0,
      "outputs": []
    },
    {
      "cell_type": "markdown",
      "metadata": {
        "id": "yyDAv5n78EAh",
        "colab_type": "text"
      },
      "source": [
        "# Recognizer"
      ]
    },
    {
      "cell_type": "code",
      "metadata": {
        "id": "SKNJOv2TB2uf",
        "colab_type": "code",
        "colab": {}
      },
      "source": [
        "import os\n",
        "os.chdir('/content/pykaldi')"
      ],
      "execution_count": 0,
      "outputs": []
    }
  ]
}